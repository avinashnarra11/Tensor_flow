{
  "nbformat": 4,
  "nbformat_minor": 0,
  "metadata": {
    "colab": {
      "name": "Untitled3.ipynb",
      "provenance": [],
      "authorship_tag": "ABX9TyOyVQ2ZNBOiTPrdiUAgoc+s",
      "include_colab_link": true
    },
    "kernelspec": {
      "name": "python3",
      "display_name": "Python 3"
    }
  },
  "cells": [
    {
      "cell_type": "markdown",
      "metadata": {
        "id": "view-in-github",
        "colab_type": "text"
      },
      "source": [
        "<a href=\"https://colab.research.google.com/github/avinashnarra11/Tensor_flow/blob/main/Classification2.ipynb\" target=\"_parent\"><img src=\"https://colab.research.google.com/assets/colab-badge.svg\" alt=\"Open In Colab\"/></a>"
      ]
    },
    {
      "cell_type": "code",
      "metadata": {
        "colab": {
          "base_uri": "https://localhost:8080/"
        },
        "id": "CgXiwBWXE8fR",
        "outputId": "a1dd3a7a-b789-4a16-f42b-3762dac7edf2"
      },
      "source": [
        "import pandas as pd\r\n",
        "import tensorflow as tf"
      ],
      "execution_count": 1,
      "outputs": [
        {
          "output_type": "stream",
          "text": [
            "/usr/local/lib/python3.6/dist-packages/tensorflow/python/framework/dtypes.py:458: FutureWarning: Passing (type, 1) or '1type' as a synonym of type is deprecated; in a future version of numpy, it will be understood as (type, (1,)) / '(1,)type'.\n",
            "  _np_qint8 = np.dtype([(\"qint8\", np.int8, 1)])\n",
            "/usr/local/lib/python3.6/dist-packages/tensorflow/python/framework/dtypes.py:459: FutureWarning: Passing (type, 1) or '1type' as a synonym of type is deprecated; in a future version of numpy, it will be understood as (type, (1,)) / '(1,)type'.\n",
            "  _np_quint8 = np.dtype([(\"quint8\", np.uint8, 1)])\n",
            "/usr/local/lib/python3.6/dist-packages/tensorflow/python/framework/dtypes.py:460: FutureWarning: Passing (type, 1) or '1type' as a synonym of type is deprecated; in a future version of numpy, it will be understood as (type, (1,)) / '(1,)type'.\n",
            "  _np_qint16 = np.dtype([(\"qint16\", np.int16, 1)])\n",
            "/usr/local/lib/python3.6/dist-packages/tensorflow/python/framework/dtypes.py:461: FutureWarning: Passing (type, 1) or '1type' as a synonym of type is deprecated; in a future version of numpy, it will be understood as (type, (1,)) / '(1,)type'.\n",
            "  _np_quint16 = np.dtype([(\"quint16\", np.uint16, 1)])\n",
            "/usr/local/lib/python3.6/dist-packages/tensorflow/python/framework/dtypes.py:462: FutureWarning: Passing (type, 1) or '1type' as a synonym of type is deprecated; in a future version of numpy, it will be understood as (type, (1,)) / '(1,)type'.\n",
            "  _np_qint32 = np.dtype([(\"qint32\", np.int32, 1)])\n",
            "/usr/local/lib/python3.6/dist-packages/tensorflow/python/framework/dtypes.py:465: FutureWarning: Passing (type, 1) or '1type' as a synonym of type is deprecated; in a future version of numpy, it will be understood as (type, (1,)) / '(1,)type'.\n",
            "  np_resource = np.dtype([(\"resource\", np.ubyte, 1)])\n"
          ],
          "name": "stderr"
        }
      ]
    },
    {
      "cell_type": "code",
      "metadata": {
        "id": "5xj92YcvGMjZ"
      },
      "source": [
        "sensus = pd.read_csv('/content/census_data.csv')"
      ],
      "execution_count": 2,
      "outputs": []
    },
    {
      "cell_type": "code",
      "metadata": {
        "colab": {
          "base_uri": "https://localhost:8080/",
          "height": 282
        },
        "id": "4TlJxsOkGkji",
        "outputId": "afa6c428-7f8d-4aac-e167-9f6a0773748d"
      },
      "source": [
        "sensus.head()"
      ],
      "execution_count": 3,
      "outputs": [
        {
          "output_type": "execute_result",
          "data": {
            "text/html": [
              "<div>\n",
              "<style scoped>\n",
              "    .dataframe tbody tr th:only-of-type {\n",
              "        vertical-align: middle;\n",
              "    }\n",
              "\n",
              "    .dataframe tbody tr th {\n",
              "        vertical-align: top;\n",
              "    }\n",
              "\n",
              "    .dataframe thead th {\n",
              "        text-align: right;\n",
              "    }\n",
              "</style>\n",
              "<table border=\"1\" class=\"dataframe\">\n",
              "  <thead>\n",
              "    <tr style=\"text-align: right;\">\n",
              "      <th></th>\n",
              "      <th>age</th>\n",
              "      <th>workclass</th>\n",
              "      <th>education</th>\n",
              "      <th>education_num</th>\n",
              "      <th>marital_status</th>\n",
              "      <th>occupation</th>\n",
              "      <th>relationship</th>\n",
              "      <th>race</th>\n",
              "      <th>gender</th>\n",
              "      <th>capital_gain</th>\n",
              "      <th>capital_loss</th>\n",
              "      <th>hours_per_week</th>\n",
              "      <th>native_country</th>\n",
              "      <th>income_bracket</th>\n",
              "    </tr>\n",
              "  </thead>\n",
              "  <tbody>\n",
              "    <tr>\n",
              "      <th>0</th>\n",
              "      <td>39</td>\n",
              "      <td>State-gov</td>\n",
              "      <td>Bachelors</td>\n",
              "      <td>13</td>\n",
              "      <td>Never-married</td>\n",
              "      <td>Adm-clerical</td>\n",
              "      <td>Not-in-family</td>\n",
              "      <td>White</td>\n",
              "      <td>Male</td>\n",
              "      <td>2174</td>\n",
              "      <td>0</td>\n",
              "      <td>40</td>\n",
              "      <td>United-States</td>\n",
              "      <td>&lt;=50K</td>\n",
              "    </tr>\n",
              "    <tr>\n",
              "      <th>1</th>\n",
              "      <td>50</td>\n",
              "      <td>Self-emp-not-inc</td>\n",
              "      <td>Bachelors</td>\n",
              "      <td>13</td>\n",
              "      <td>Married-civ-spouse</td>\n",
              "      <td>Exec-managerial</td>\n",
              "      <td>Husband</td>\n",
              "      <td>White</td>\n",
              "      <td>Male</td>\n",
              "      <td>0</td>\n",
              "      <td>0</td>\n",
              "      <td>13</td>\n",
              "      <td>United-States</td>\n",
              "      <td>&lt;=50K</td>\n",
              "    </tr>\n",
              "    <tr>\n",
              "      <th>2</th>\n",
              "      <td>38</td>\n",
              "      <td>Private</td>\n",
              "      <td>HS-grad</td>\n",
              "      <td>9</td>\n",
              "      <td>Divorced</td>\n",
              "      <td>Handlers-cleaners</td>\n",
              "      <td>Not-in-family</td>\n",
              "      <td>White</td>\n",
              "      <td>Male</td>\n",
              "      <td>0</td>\n",
              "      <td>0</td>\n",
              "      <td>40</td>\n",
              "      <td>United-States</td>\n",
              "      <td>&lt;=50K</td>\n",
              "    </tr>\n",
              "    <tr>\n",
              "      <th>3</th>\n",
              "      <td>53</td>\n",
              "      <td>Private</td>\n",
              "      <td>11th</td>\n",
              "      <td>7</td>\n",
              "      <td>Married-civ-spouse</td>\n",
              "      <td>Handlers-cleaners</td>\n",
              "      <td>Husband</td>\n",
              "      <td>Black</td>\n",
              "      <td>Male</td>\n",
              "      <td>0</td>\n",
              "      <td>0</td>\n",
              "      <td>40</td>\n",
              "      <td>United-States</td>\n",
              "      <td>&lt;=50K</td>\n",
              "    </tr>\n",
              "    <tr>\n",
              "      <th>4</th>\n",
              "      <td>28</td>\n",
              "      <td>Private</td>\n",
              "      <td>Bachelors</td>\n",
              "      <td>13</td>\n",
              "      <td>Married-civ-spouse</td>\n",
              "      <td>Prof-specialty</td>\n",
              "      <td>Wife</td>\n",
              "      <td>Black</td>\n",
              "      <td>Female</td>\n",
              "      <td>0</td>\n",
              "      <td>0</td>\n",
              "      <td>40</td>\n",
              "      <td>Cuba</td>\n",
              "      <td>&lt;=50K</td>\n",
              "    </tr>\n",
              "  </tbody>\n",
              "</table>\n",
              "</div>"
            ],
            "text/plain": [
              "   age          workclass  ...  native_country  income_bracket\n",
              "0   39          State-gov  ...   United-States           <=50K\n",
              "1   50   Self-emp-not-inc  ...   United-States           <=50K\n",
              "2   38            Private  ...   United-States           <=50K\n",
              "3   53            Private  ...   United-States           <=50K\n",
              "4   28            Private  ...            Cuba           <=50K\n",
              "\n",
              "[5 rows x 14 columns]"
            ]
          },
          "metadata": {
            "tags": []
          },
          "execution_count": 3
        }
      ]
    },
    {
      "cell_type": "code",
      "metadata": {
        "colab": {
          "base_uri": "https://localhost:8080/"
        },
        "id": "Buuk0go6Udjm",
        "outputId": "19f877ff-66d3-4014-ebf5-3f05fcf8f830"
      },
      "source": [
        "sensus['income_bracket'].unique()"
      ],
      "execution_count": 4,
      "outputs": [
        {
          "output_type": "execute_result",
          "data": {
            "text/plain": [
              "array([' <=50K', ' >50K'], dtype=object)"
            ]
          },
          "metadata": {
            "tags": []
          },
          "execution_count": 4
        }
      ]
    },
    {
      "cell_type": "code",
      "metadata": {
        "id": "FNUSNB-mHb-g"
      },
      "source": [
        "def label_fix(label):\r\n",
        "  if label==' <=50K':\r\n",
        "    return 0\r\n",
        "  else:\r\n",
        "    return 1"
      ],
      "execution_count": 5,
      "outputs": []
    },
    {
      "cell_type": "code",
      "metadata": {
        "id": "MhepDUa9Gl11"
      },
      "source": [
        "sensus['income_bracket'] = sensus['income_bracket'].apply(label_fix)"
      ],
      "execution_count": 6,
      "outputs": []
    },
    {
      "cell_type": "code",
      "metadata": {
        "id": "LScZiMHOHyJw",
        "colab": {
          "base_uri": "https://localhost:8080/",
          "height": 282
        },
        "outputId": "dc9f8aae-8686-4da7-d9c2-a4614927e398"
      },
      "source": [
        "sensus.head()"
      ],
      "execution_count": 7,
      "outputs": [
        {
          "output_type": "execute_result",
          "data": {
            "text/html": [
              "<div>\n",
              "<style scoped>\n",
              "    .dataframe tbody tr th:only-of-type {\n",
              "        vertical-align: middle;\n",
              "    }\n",
              "\n",
              "    .dataframe tbody tr th {\n",
              "        vertical-align: top;\n",
              "    }\n",
              "\n",
              "    .dataframe thead th {\n",
              "        text-align: right;\n",
              "    }\n",
              "</style>\n",
              "<table border=\"1\" class=\"dataframe\">\n",
              "  <thead>\n",
              "    <tr style=\"text-align: right;\">\n",
              "      <th></th>\n",
              "      <th>age</th>\n",
              "      <th>workclass</th>\n",
              "      <th>education</th>\n",
              "      <th>education_num</th>\n",
              "      <th>marital_status</th>\n",
              "      <th>occupation</th>\n",
              "      <th>relationship</th>\n",
              "      <th>race</th>\n",
              "      <th>gender</th>\n",
              "      <th>capital_gain</th>\n",
              "      <th>capital_loss</th>\n",
              "      <th>hours_per_week</th>\n",
              "      <th>native_country</th>\n",
              "      <th>income_bracket</th>\n",
              "    </tr>\n",
              "  </thead>\n",
              "  <tbody>\n",
              "    <tr>\n",
              "      <th>0</th>\n",
              "      <td>39</td>\n",
              "      <td>State-gov</td>\n",
              "      <td>Bachelors</td>\n",
              "      <td>13</td>\n",
              "      <td>Never-married</td>\n",
              "      <td>Adm-clerical</td>\n",
              "      <td>Not-in-family</td>\n",
              "      <td>White</td>\n",
              "      <td>Male</td>\n",
              "      <td>2174</td>\n",
              "      <td>0</td>\n",
              "      <td>40</td>\n",
              "      <td>United-States</td>\n",
              "      <td>0</td>\n",
              "    </tr>\n",
              "    <tr>\n",
              "      <th>1</th>\n",
              "      <td>50</td>\n",
              "      <td>Self-emp-not-inc</td>\n",
              "      <td>Bachelors</td>\n",
              "      <td>13</td>\n",
              "      <td>Married-civ-spouse</td>\n",
              "      <td>Exec-managerial</td>\n",
              "      <td>Husband</td>\n",
              "      <td>White</td>\n",
              "      <td>Male</td>\n",
              "      <td>0</td>\n",
              "      <td>0</td>\n",
              "      <td>13</td>\n",
              "      <td>United-States</td>\n",
              "      <td>0</td>\n",
              "    </tr>\n",
              "    <tr>\n",
              "      <th>2</th>\n",
              "      <td>38</td>\n",
              "      <td>Private</td>\n",
              "      <td>HS-grad</td>\n",
              "      <td>9</td>\n",
              "      <td>Divorced</td>\n",
              "      <td>Handlers-cleaners</td>\n",
              "      <td>Not-in-family</td>\n",
              "      <td>White</td>\n",
              "      <td>Male</td>\n",
              "      <td>0</td>\n",
              "      <td>0</td>\n",
              "      <td>40</td>\n",
              "      <td>United-States</td>\n",
              "      <td>0</td>\n",
              "    </tr>\n",
              "    <tr>\n",
              "      <th>3</th>\n",
              "      <td>53</td>\n",
              "      <td>Private</td>\n",
              "      <td>11th</td>\n",
              "      <td>7</td>\n",
              "      <td>Married-civ-spouse</td>\n",
              "      <td>Handlers-cleaners</td>\n",
              "      <td>Husband</td>\n",
              "      <td>Black</td>\n",
              "      <td>Male</td>\n",
              "      <td>0</td>\n",
              "      <td>0</td>\n",
              "      <td>40</td>\n",
              "      <td>United-States</td>\n",
              "      <td>0</td>\n",
              "    </tr>\n",
              "    <tr>\n",
              "      <th>4</th>\n",
              "      <td>28</td>\n",
              "      <td>Private</td>\n",
              "      <td>Bachelors</td>\n",
              "      <td>13</td>\n",
              "      <td>Married-civ-spouse</td>\n",
              "      <td>Prof-specialty</td>\n",
              "      <td>Wife</td>\n",
              "      <td>Black</td>\n",
              "      <td>Female</td>\n",
              "      <td>0</td>\n",
              "      <td>0</td>\n",
              "      <td>40</td>\n",
              "      <td>Cuba</td>\n",
              "      <td>0</td>\n",
              "    </tr>\n",
              "  </tbody>\n",
              "</table>\n",
              "</div>"
            ],
            "text/plain": [
              "   age          workclass  ...  native_country  income_bracket\n",
              "0   39          State-gov  ...   United-States               0\n",
              "1   50   Self-emp-not-inc  ...   United-States               0\n",
              "2   38            Private  ...   United-States               0\n",
              "3   53            Private  ...   United-States               0\n",
              "4   28            Private  ...            Cuba               0\n",
              "\n",
              "[5 rows x 14 columns]"
            ]
          },
          "metadata": {
            "tags": []
          },
          "execution_count": 7
        }
      ]
    },
    {
      "cell_type": "code",
      "metadata": {
        "id": "EH_Q6e-b3HQj"
      },
      "source": [
        "age = tf.feature_column.numeric_column('age')\r\n",
        "education_num = tf.feature_column.numeric_column('education_num')\r\n",
        "capital_gain = tf.feature_column.numeric_column('capital_gain')\r\n",
        "capital_loss = tf.feature_column.numeric_column('capital_loss')\r\n",
        "hours_per_week = tf.feature_column.numeric_column('hours_per_week')"
      ],
      "execution_count": 8,
      "outputs": []
    },
    {
      "cell_type": "code",
      "metadata": {
        "id": "P0fr0IGJ47cf"
      },
      "source": [
        "marital_status = tf.feature_column.categorical_column_with_hash_bucket('marital_status' ,hash_bucket_size=10)\r\n",
        "occupation = tf.feature_column.categorical_column_with_hash_bucket('occupation', hash_bucket_size=50)\r\n",
        "relationship = tf.feature_column.categorical_column_with_hash_bucket('relationship', hash_bucket_size=50)\r\n",
        "race = tf.feature_column.categorical_column_with_hash_bucket('race', hash_bucket_size=50)\r\n",
        "native_country = tf.feature_column.categorical_column_with_hash_bucket('native_country', hash_bucket_size=100)\r\n",
        "gender = tf.feature_column.categorical_column_with_hash_bucket('gender', hash_bucket_size=10)\r\n",
        "workclass = tf.feature_column.categorical_column_with_hash_bucket('workclass', hash_bucket_size=20)\r\n",
        "education = tf.feature_column.categorical_column_with_hash_bucket('education', hash_bucket_size=30)"
      ],
      "execution_count": 9,
      "outputs": []
    },
    {
      "cell_type": "code",
      "metadata": {
        "id": "FTijbND7jES-"
      },
      "source": [
        "embed_marital_status = tf.feature_column.embedding_column(marital_status, dimension=10)\r\n",
        "embed_occupation = tf.feature_column.embedding_column(occupation, dimension=50)\r\n",
        "embed_relationship = tf.feature_column.embedding_column(relationship, dimension= 50)\r\n",
        "embed_race = tf.feature_column.embedding_column(race, dimension=50)\r\n",
        "embed_native_country = tf.feature_column.embedding_column(native_country, dimension=100)\r\n",
        "embed_gender = tf.feature_column.embedding_column(gender, dimension=10)\r\n",
        "embed_workclass = tf.feature_column.embedding_column(workclass, dimension=20)\r\n",
        "embed_education = tf.feature_column.embedding_column(education, dimension=30)"
      ],
      "execution_count": 39,
      "outputs": []
    },
    {
      "cell_type": "code",
      "metadata": {
        "id": "MAsGYk938GkM"
      },
      "source": [
        "x_data = sensus.drop('income_bracket',axis=1)"
      ],
      "execution_count": 10,
      "outputs": []
    },
    {
      "cell_type": "code",
      "metadata": {
        "id": "Lj4Qj_x38VVc"
      },
      "source": [
        "labels = sensus['income_bracket']"
      ],
      "execution_count": 11,
      "outputs": []
    },
    {
      "cell_type": "code",
      "metadata": {
        "id": "rE0JZuTI7ouK"
      },
      "source": [
        "from sklearn.model_selection import train_test_split"
      ],
      "execution_count": 12,
      "outputs": []
    },
    {
      "cell_type": "code",
      "metadata": {
        "id": "hOG82G7076it"
      },
      "source": [
        "X_train, X_test, y_train, y_test = train_test_split(x_data, labels, test_size=0.3, random_state=101)"
      ],
      "execution_count": 13,
      "outputs": []
    },
    {
      "cell_type": "markdown",
      "metadata": {
        "id": "nrub7Q3bU4BY"
      },
      "source": [
        "Modeling"
      ]
    },
    {
      "cell_type": "code",
      "metadata": {
        "id": "0jgU-KiUV2A6"
      },
      "source": [
        "feat_cols = [age,education_num, capital_gain,capital_loss,hours_per_week, marital_status,occupation,relationship, race, native_country,gender,\r\n",
        "             workclass, education]"
      ],
      "execution_count": 14,
      "outputs": []
    },
    {
      "cell_type": "code",
      "metadata": {
        "id": "nin0HqgLWW-w"
      },
      "source": [
        "input_func = tf.estimator.inputs.pandas_input_fn(x=X_train, y=y_train, batch_size= 10, num_epochs= 1000, shuffle= True)"
      ],
      "execution_count": 15,
      "outputs": []
    },
    {
      "cell_type": "code",
      "metadata": {
        "colab": {
          "base_uri": "https://localhost:8080/"
        },
        "id": "7bF-JIn9aClo",
        "outputId": "170b9507-9054-4f35-da98-b1c3f56d2519"
      },
      "source": [
        "model = tf.estimator.LinearClassifier( feature_columns= feat_cols, n_classes=2)"
      ],
      "execution_count": 16,
      "outputs": [
        {
          "output_type": "stream",
          "text": [
            "INFO:tensorflow:Using default config.\n",
            "WARNING:tensorflow:Using temporary folder as model directory: /tmp/tmpzz6122yz\n",
            "INFO:tensorflow:Using config: {'_model_dir': '/tmp/tmpzz6122yz', '_tf_random_seed': 1, '_save_summary_steps': 100, '_save_checkpoints_secs': 600, '_save_checkpoints_steps': None, '_session_config': None, '_keep_checkpoint_max': 5, '_keep_checkpoint_every_n_hours': 10000, '_log_step_count_steps': 100}\n"
          ],
          "name": "stdout"
        }
      ]
    },
    {
      "cell_type": "code",
      "metadata": {
        "colab": {
          "base_uri": "https://localhost:8080/"
        },
        "id": "BNFZxu-waS4q",
        "outputId": "9a012b21-3f96-47eb-8aaf-a931e07bc886"
      },
      "source": [
        "model.train(input_fn= input_func, steps=1000)"
      ],
      "execution_count": 17,
      "outputs": [
        {
          "output_type": "stream",
          "text": [
            "INFO:tensorflow:Create CheckpointSaverHook.\n",
            "INFO:tensorflow:Saving checkpoints for 1 into /tmp/tmpzz6122yz/model.ckpt.\n",
            "INFO:tensorflow:loss = 6.931472, step = 1\n",
            "INFO:tensorflow:global_step/sec: 268.214\n",
            "INFO:tensorflow:loss = 135.87212, step = 101 (0.374 sec)\n",
            "INFO:tensorflow:global_step/sec: 299.191\n",
            "INFO:tensorflow:loss = 6.264593, step = 201 (0.341 sec)\n",
            "INFO:tensorflow:global_step/sec: 280.221\n",
            "INFO:tensorflow:loss = 4.3696856, step = 301 (0.352 sec)\n",
            "INFO:tensorflow:global_step/sec: 275.936\n",
            "INFO:tensorflow:loss = 115.17985, step = 401 (0.361 sec)\n",
            "INFO:tensorflow:global_step/sec: 286.398\n",
            "INFO:tensorflow:loss = 50.60522, step = 501 (0.351 sec)\n",
            "INFO:tensorflow:global_step/sec: 295.765\n",
            "INFO:tensorflow:loss = 83.49839, step = 601 (0.342 sec)\n",
            "INFO:tensorflow:global_step/sec: 305.052\n",
            "INFO:tensorflow:loss = 1.5576489, step = 701 (0.334 sec)\n",
            "INFO:tensorflow:global_step/sec: 284.959\n",
            "INFO:tensorflow:loss = 110.85125, step = 801 (0.340 sec)\n",
            "INFO:tensorflow:global_step/sec: 302.119\n",
            "INFO:tensorflow:loss = 39.870712, step = 901 (0.336 sec)\n",
            "INFO:tensorflow:Saving checkpoints for 1000 into /tmp/tmpzz6122yz/model.ckpt.\n",
            "INFO:tensorflow:Loss for final step: 0.9546604.\n"
          ],
          "name": "stdout"
        },
        {
          "output_type": "execute_result",
          "data": {
            "text/plain": [
              "<tensorflow.python.estimator.canned.linear.LinearClassifier at 0x7f91eb238cc0>"
            ]
          },
          "metadata": {
            "tags": []
          },
          "execution_count": 17
        }
      ]
    },
    {
      "cell_type": "code",
      "metadata": {
        "id": "hqhZvECAacdb"
      },
      "source": [
        "pred_input_func = tf.estimator.inputs.pandas_input_fn(x= X_test,batch_size=10, num_epochs=1,shuffle=False)"
      ],
      "execution_count": 32,
      "outputs": []
    },
    {
      "cell_type": "code",
      "metadata": {
        "id": "JoU3E_E8avuD"
      },
      "source": [
        "results = model.predict(input_fn= pred_input_func)"
      ],
      "execution_count": 33,
      "outputs": []
    },
    {
      "cell_type": "code",
      "metadata": {
        "id": "_3VGL6yUbA_f"
      },
      "source": [
        "eval_input_func = tf.estimator.inputs.pandas_input_fn(x= X_test,y=y_test,batch_size=10, num_epochs=1,shuffle=False)"
      ],
      "execution_count": 22,
      "outputs": []
    },
    {
      "cell_type": "code",
      "metadata": {
        "colab": {
          "base_uri": "https://localhost:8080/"
        },
        "id": "A_3Swlo9b857",
        "outputId": "44a65c34-4751-4394-bdc1-28f51594e9a7"
      },
      "source": [
        "model.evaluate(input_fn= eval_input_func)"
      ],
      "execution_count": 23,
      "outputs": [
        {
          "output_type": "stream",
          "text": [
            "WARNING:tensorflow:Casting <dtype: 'float32'> labels to bool.\n",
            "WARNING:tensorflow:Casting <dtype: 'float32'> labels to bool.\n",
            "INFO:tensorflow:Starting evaluation at 2021-01-30-22:35:41\n",
            "INFO:tensorflow:Restoring parameters from /tmp/tmpzz6122yz/model.ckpt-1000\n",
            "INFO:tensorflow:Finished evaluation at 2021-01-30-22:35:45\n",
            "INFO:tensorflow:Saving dict for global step 1000: accuracy = 0.80745214, accuracy_baseline = 0.7611833, auc = 0.8592765, auc_precision_recall = 0.63614047, average_loss = 5.3169107, global_step = 1000, label/mean = 0.23881666, loss = 53.163666, prediction/mean = 0.303459\n"
          ],
          "name": "stdout"
        },
        {
          "output_type": "execute_result",
          "data": {
            "text/plain": [
              "{'accuracy': 0.80745214,\n",
              " 'accuracy_baseline': 0.7611833,\n",
              " 'auc': 0.8592765,\n",
              " 'auc_precision_recall': 0.63614047,\n",
              " 'average_loss': 5.3169107,\n",
              " 'global_step': 1000,\n",
              " 'label/mean': 0.23881666,\n",
              " 'loss': 53.163666,\n",
              " 'prediction/mean': 0.303459}"
            ]
          },
          "metadata": {
            "tags": []
          },
          "execution_count": 23
        }
      ]
    },
    {
      "cell_type": "code",
      "metadata": {
        "id": "PNI4-OfFkfXK"
      },
      "source": [
        "feat_cols1 = [age,education_num, capital_gain,capital_loss,hours_per_week,embed_marital_status,embed_native_country,embed_occupation,embed_race,\r\n",
        "              embed_relationship,embed_workclass,embed_gender,embed_education]"
      ],
      "execution_count": 40,
      "outputs": []
    },
    {
      "cell_type": "code",
      "metadata": {
        "colab": {
          "base_uri": "https://localhost:8080/"
        },
        "id": "6BCC59FzlfSw",
        "outputId": "162b448e-3ef3-4d9b-8d95-6aa1c9ba0773"
      },
      "source": [
        "model1 = tf.estimator.DNNClassifier(hidden_units=[12,12,12], n_classes=2, feature_columns=feat_cols1)"
      ],
      "execution_count": 41,
      "outputs": [
        {
          "output_type": "stream",
          "text": [
            "INFO:tensorflow:Using default config.\n",
            "WARNING:tensorflow:Using temporary folder as model directory: /tmp/tmp4lisn4al\n",
            "INFO:tensorflow:Using config: {'_model_dir': '/tmp/tmp4lisn4al', '_tf_random_seed': 1, '_save_summary_steps': 100, '_save_checkpoints_secs': 600, '_save_checkpoints_steps': None, '_session_config': None, '_keep_checkpoint_max': 5, '_keep_checkpoint_every_n_hours': 10000, '_log_step_count_steps': 100}\n"
          ],
          "name": "stdout"
        }
      ]
    },
    {
      "cell_type": "code",
      "metadata": {
        "colab": {
          "base_uri": "https://localhost:8080/"
        },
        "id": "NB29ZYtFcAXm",
        "outputId": "542ea018-e95a-4d66-9882-ef152723d831"
      },
      "source": [
        "model1.train(input_fn= input_func, steps=1000)"
      ],
      "execution_count": 42,
      "outputs": [
        {
          "output_type": "stream",
          "text": [
            "INFO:tensorflow:Create CheckpointSaverHook.\n",
            "INFO:tensorflow:Saving checkpoints for 1 into /tmp/tmp4lisn4al/model.ckpt.\n",
            "INFO:tensorflow:loss = 4.6581917, step = 1\n",
            "INFO:tensorflow:global_step/sec: 248.59\n",
            "INFO:tensorflow:loss = 4.792199, step = 101 (0.404 sec)\n",
            "INFO:tensorflow:global_step/sec: 280.085\n",
            "INFO:tensorflow:loss = 5.932738, step = 201 (0.361 sec)\n",
            "INFO:tensorflow:global_step/sec: 274.325\n",
            "INFO:tensorflow:loss = 3.1290004, step = 301 (0.361 sec)\n",
            "INFO:tensorflow:global_step/sec: 279.583\n",
            "INFO:tensorflow:loss = 2.1710773, step = 401 (0.362 sec)\n",
            "INFO:tensorflow:global_step/sec: 264.29\n",
            "INFO:tensorflow:loss = 4.70091, step = 501 (0.376 sec)\n",
            "INFO:tensorflow:global_step/sec: 296.424\n",
            "INFO:tensorflow:loss = 4.2324395, step = 601 (0.337 sec)\n",
            "INFO:tensorflow:global_step/sec: 289.886\n",
            "INFO:tensorflow:loss = 5.159936, step = 701 (0.345 sec)\n",
            "INFO:tensorflow:global_step/sec: 282.135\n",
            "INFO:tensorflow:loss = 3.2755885, step = 801 (0.355 sec)\n",
            "INFO:tensorflow:global_step/sec: 272.959\n",
            "INFO:tensorflow:loss = 3.5586376, step = 901 (0.364 sec)\n",
            "INFO:tensorflow:Saving checkpoints for 1000 into /tmp/tmp4lisn4al/model.ckpt.\n",
            "INFO:tensorflow:Loss for final step: 6.2664022.\n"
          ],
          "name": "stdout"
        },
        {
          "output_type": "execute_result",
          "data": {
            "text/plain": [
              "<tensorflow.python.estimator.canned.dnn.DNNClassifier at 0x7f91eac4bef0>"
            ]
          },
          "metadata": {
            "tags": []
          },
          "execution_count": 42
        }
      ]
    },
    {
      "cell_type": "code",
      "metadata": {
        "colab": {
          "base_uri": "https://localhost:8080/"
        },
        "id": "-ylUSy37dulK",
        "outputId": "5ea80bc8-a4cf-4344-aae9-67c727fb8761"
      },
      "source": [
        "model1.evaluate(input_fn=eval_input_func)"
      ],
      "execution_count": 43,
      "outputs": [
        {
          "output_type": "stream",
          "text": [
            "WARNING:tensorflow:Casting <dtype: 'float32'> labels to bool.\n",
            "WARNING:tensorflow:Casting <dtype: 'float32'> labels to bool.\n",
            "INFO:tensorflow:Starting evaluation at 2021-01-30-23:18:38\n",
            "INFO:tensorflow:Restoring parameters from /tmp/tmp4lisn4al/model.ckpt-1000\n",
            "INFO:tensorflow:Finished evaluation at 2021-01-30-23:18:42\n",
            "INFO:tensorflow:Saving dict for global step 1000: accuracy = 0.80397177, accuracy_baseline = 0.7611833, auc = 0.8406749, auc_precision_recall = 0.6421947, average_loss = 0.37989464, global_step = 1000, label/mean = 0.23881666, loss = 3.7985575, prediction/mean = 0.22067544\n"
          ],
          "name": "stdout"
        },
        {
          "output_type": "execute_result",
          "data": {
            "text/plain": [
              "{'accuracy': 0.80397177,\n",
              " 'accuracy_baseline': 0.7611833,\n",
              " 'auc': 0.8406749,\n",
              " 'auc_precision_recall': 0.6421947,\n",
              " 'average_loss': 0.37989464,\n",
              " 'global_step': 1000,\n",
              " 'label/mean': 0.23881666,\n",
              " 'loss': 3.7985575,\n",
              " 'prediction/mean': 0.22067544}"
            ]
          },
          "metadata": {
            "tags": []
          },
          "execution_count": 43
        }
      ]
    },
    {
      "cell_type": "code",
      "metadata": {
        "id": "bY506Jg1l1dQ"
      },
      "source": [
        ""
      ],
      "execution_count": null,
      "outputs": []
    }
  ]
}