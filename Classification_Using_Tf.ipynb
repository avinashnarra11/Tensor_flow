{
  "nbformat": 4,
  "nbformat_minor": 0,
  "metadata": {
    "colab": {
      "name": "Untitled1.ipynb",
      "provenance": [],
      "collapsed_sections": [],
      "toc_visible": true,
      "authorship_tag": "ABX9TyOR5MOWADXxRWbglHAJJcfm",
      "include_colab_link": true
    },
    "kernelspec": {
      "name": "python3",
      "display_name": "Python 3"
    }
  },
  "cells": [
    {
      "cell_type": "markdown",
      "metadata": {
        "id": "view-in-github",
        "colab_type": "text"
      },
      "source": [
        "<a href=\"https://colab.research.google.com/github/avinashnarra11/Tensor_flow/blob/main/Classification_Using_Tf.ipynb\" target=\"_parent\"><img src=\"https://colab.research.google.com/assets/colab-badge.svg\" alt=\"Open In Colab\"/></a>"
      ]
    },
    {
      "cell_type": "code",
      "metadata": {
        "colab": {
          "base_uri": "https://localhost:8080/"
        },
        "id": "KyNKPwvoLl60",
        "outputId": "6707943c-71e4-487d-84fc-b64b5517413d"
      },
      "source": [
        "import tensorflow as tf\r\n",
        "import pandas as pd"
      ],
      "execution_count": 1,
      "outputs": [
        {
          "output_type": "stream",
          "text": [
            "/usr/local/lib/python3.6/dist-packages/tensorflow/python/framework/dtypes.py:458: FutureWarning: Passing (type, 1) or '1type' as a synonym of type is deprecated; in a future version of numpy, it will be understood as (type, (1,)) / '(1,)type'.\n",
            "  _np_qint8 = np.dtype([(\"qint8\", np.int8, 1)])\n",
            "/usr/local/lib/python3.6/dist-packages/tensorflow/python/framework/dtypes.py:459: FutureWarning: Passing (type, 1) or '1type' as a synonym of type is deprecated; in a future version of numpy, it will be understood as (type, (1,)) / '(1,)type'.\n",
            "  _np_quint8 = np.dtype([(\"quint8\", np.uint8, 1)])\n",
            "/usr/local/lib/python3.6/dist-packages/tensorflow/python/framework/dtypes.py:460: FutureWarning: Passing (type, 1) or '1type' as a synonym of type is deprecated; in a future version of numpy, it will be understood as (type, (1,)) / '(1,)type'.\n",
            "  _np_qint16 = np.dtype([(\"qint16\", np.int16, 1)])\n",
            "/usr/local/lib/python3.6/dist-packages/tensorflow/python/framework/dtypes.py:461: FutureWarning: Passing (type, 1) or '1type' as a synonym of type is deprecated; in a future version of numpy, it will be understood as (type, (1,)) / '(1,)type'.\n",
            "  _np_quint16 = np.dtype([(\"quint16\", np.uint16, 1)])\n",
            "/usr/local/lib/python3.6/dist-packages/tensorflow/python/framework/dtypes.py:462: FutureWarning: Passing (type, 1) or '1type' as a synonym of type is deprecated; in a future version of numpy, it will be understood as (type, (1,)) / '(1,)type'.\n",
            "  _np_qint32 = np.dtype([(\"qint32\", np.int32, 1)])\n",
            "/usr/local/lib/python3.6/dist-packages/tensorflow/python/framework/dtypes.py:465: FutureWarning: Passing (type, 1) or '1type' as a synonym of type is deprecated; in a future version of numpy, it will be understood as (type, (1,)) / '(1,)type'.\n",
            "  np_resource = np.dtype([(\"resource\", np.ubyte, 1)])\n"
          ],
          "name": "stderr"
        }
      ]
    },
    {
      "cell_type": "code",
      "metadata": {
        "id": "M8-QOYhWLzOO"
      },
      "source": [
        "df = pd.read_csv('/pima-indians-diabetes.csv')"
      ],
      "execution_count": 2,
      "outputs": []
    },
    {
      "cell_type": "code",
      "metadata": {
        "colab": {
          "base_uri": "https://localhost:8080/",
          "height": 195
        },
        "id": "ccsLu-HRL6xe",
        "outputId": "a9fd8cab-9ce1-4464-d4d8-9f49f9179780"
      },
      "source": [
        "df.head()"
      ],
      "execution_count": 3,
      "outputs": [
        {
          "output_type": "execute_result",
          "data": {
            "text/html": [
              "<div>\n",
              "<style scoped>\n",
              "    .dataframe tbody tr th:only-of-type {\n",
              "        vertical-align: middle;\n",
              "    }\n",
              "\n",
              "    .dataframe tbody tr th {\n",
              "        vertical-align: top;\n",
              "    }\n",
              "\n",
              "    .dataframe thead th {\n",
              "        text-align: right;\n",
              "    }\n",
              "</style>\n",
              "<table border=\"1\" class=\"dataframe\">\n",
              "  <thead>\n",
              "    <tr style=\"text-align: right;\">\n",
              "      <th></th>\n",
              "      <th>Number_pregnant</th>\n",
              "      <th>Glucose_concentration</th>\n",
              "      <th>Blood_pressure</th>\n",
              "      <th>Triceps</th>\n",
              "      <th>Insulin</th>\n",
              "      <th>BMI</th>\n",
              "      <th>Pedigree</th>\n",
              "      <th>Age</th>\n",
              "      <th>Class</th>\n",
              "      <th>Group</th>\n",
              "    </tr>\n",
              "  </thead>\n",
              "  <tbody>\n",
              "    <tr>\n",
              "      <th>0</th>\n",
              "      <td>6</td>\n",
              "      <td>0.743719</td>\n",
              "      <td>0.590164</td>\n",
              "      <td>0.353535</td>\n",
              "      <td>0.000000</td>\n",
              "      <td>0.500745</td>\n",
              "      <td>0.234415</td>\n",
              "      <td>50</td>\n",
              "      <td>1</td>\n",
              "      <td>B</td>\n",
              "    </tr>\n",
              "    <tr>\n",
              "      <th>1</th>\n",
              "      <td>1</td>\n",
              "      <td>0.427136</td>\n",
              "      <td>0.540984</td>\n",
              "      <td>0.292929</td>\n",
              "      <td>0.000000</td>\n",
              "      <td>0.396423</td>\n",
              "      <td>0.116567</td>\n",
              "      <td>31</td>\n",
              "      <td>0</td>\n",
              "      <td>C</td>\n",
              "    </tr>\n",
              "    <tr>\n",
              "      <th>2</th>\n",
              "      <td>8</td>\n",
              "      <td>0.919598</td>\n",
              "      <td>0.524590</td>\n",
              "      <td>0.000000</td>\n",
              "      <td>0.000000</td>\n",
              "      <td>0.347243</td>\n",
              "      <td>0.253629</td>\n",
              "      <td>32</td>\n",
              "      <td>1</td>\n",
              "      <td>B</td>\n",
              "    </tr>\n",
              "    <tr>\n",
              "      <th>3</th>\n",
              "      <td>1</td>\n",
              "      <td>0.447236</td>\n",
              "      <td>0.540984</td>\n",
              "      <td>0.232323</td>\n",
              "      <td>0.111111</td>\n",
              "      <td>0.418778</td>\n",
              "      <td>0.038002</td>\n",
              "      <td>21</td>\n",
              "      <td>0</td>\n",
              "      <td>B</td>\n",
              "    </tr>\n",
              "    <tr>\n",
              "      <th>4</th>\n",
              "      <td>0</td>\n",
              "      <td>0.688442</td>\n",
              "      <td>0.327869</td>\n",
              "      <td>0.353535</td>\n",
              "      <td>0.198582</td>\n",
              "      <td>0.642325</td>\n",
              "      <td>0.943638</td>\n",
              "      <td>33</td>\n",
              "      <td>1</td>\n",
              "      <td>C</td>\n",
              "    </tr>\n",
              "  </tbody>\n",
              "</table>\n",
              "</div>"
            ],
            "text/plain": [
              "   Number_pregnant  Glucose_concentration  Blood_pressure  ...  Age  Class  Group\n",
              "0                6               0.743719        0.590164  ...   50      1      B\n",
              "1                1               0.427136        0.540984  ...   31      0      C\n",
              "2                8               0.919598        0.524590  ...   32      1      B\n",
              "3                1               0.447236        0.540984  ...   21      0      B\n",
              "4                0               0.688442        0.327869  ...   33      1      C\n",
              "\n",
              "[5 rows x 10 columns]"
            ]
          },
          "metadata": {
            "tags": []
          },
          "execution_count": 3
        }
      ]
    },
    {
      "cell_type": "code",
      "metadata": {
        "colab": {
          "base_uri": "https://localhost:8080/"
        },
        "id": "xq7dQCvZMAMz",
        "outputId": "de9abd88-8011-4cc7-d553-54d6d86f45ee"
      },
      "source": [
        "df.columns"
      ],
      "execution_count": 4,
      "outputs": [
        {
          "output_type": "execute_result",
          "data": {
            "text/plain": [
              "Index(['Number_pregnant', 'Glucose_concentration', 'Blood_pressure', 'Triceps',\n",
              "       'Insulin', 'BMI', 'Pedigree', 'Age', 'Class', 'Group'],\n",
              "      dtype='object')"
            ]
          },
          "metadata": {
            "tags": []
          },
          "execution_count": 4
        }
      ]
    },
    {
      "cell_type": "code",
      "metadata": {
        "id": "hydcOnSmOXV7"
      },
      "source": [
        "cols_to_norm = ['Number_pregnant', 'Glucose_concentration', 'Blood_pressure', 'Triceps',\r\n",
        "       'Insulin', 'BMI', 'Pedigree']"
      ],
      "execution_count": 5,
      "outputs": []
    },
    {
      "cell_type": "code",
      "metadata": {
        "id": "MpRd45SlN0nq"
      },
      "source": [
        "df[cols_to_norm]=df[cols_to_norm].apply(lambda x: (x - x.min())/ (x.max()-x.min()))"
      ],
      "execution_count": 6,
      "outputs": []
    },
    {
      "cell_type": "code",
      "metadata": {
        "colab": {
          "base_uri": "https://localhost:8080/",
          "height": 195
        },
        "id": "b69m81WoOkP1",
        "outputId": "b7d070ed-e213-4757-e5a8-451059262c52"
      },
      "source": [
        "df.head()"
      ],
      "execution_count": 7,
      "outputs": [
        {
          "output_type": "execute_result",
          "data": {
            "text/html": [
              "<div>\n",
              "<style scoped>\n",
              "    .dataframe tbody tr th:only-of-type {\n",
              "        vertical-align: middle;\n",
              "    }\n",
              "\n",
              "    .dataframe tbody tr th {\n",
              "        vertical-align: top;\n",
              "    }\n",
              "\n",
              "    .dataframe thead th {\n",
              "        text-align: right;\n",
              "    }\n",
              "</style>\n",
              "<table border=\"1\" class=\"dataframe\">\n",
              "  <thead>\n",
              "    <tr style=\"text-align: right;\">\n",
              "      <th></th>\n",
              "      <th>Number_pregnant</th>\n",
              "      <th>Glucose_concentration</th>\n",
              "      <th>Blood_pressure</th>\n",
              "      <th>Triceps</th>\n",
              "      <th>Insulin</th>\n",
              "      <th>BMI</th>\n",
              "      <th>Pedigree</th>\n",
              "      <th>Age</th>\n",
              "      <th>Class</th>\n",
              "      <th>Group</th>\n",
              "    </tr>\n",
              "  </thead>\n",
              "  <tbody>\n",
              "    <tr>\n",
              "      <th>0</th>\n",
              "      <td>0.352941</td>\n",
              "      <td>0.743719</td>\n",
              "      <td>0.590164</td>\n",
              "      <td>0.353535</td>\n",
              "      <td>0.000000</td>\n",
              "      <td>0.500745</td>\n",
              "      <td>0.234415</td>\n",
              "      <td>50</td>\n",
              "      <td>1</td>\n",
              "      <td>B</td>\n",
              "    </tr>\n",
              "    <tr>\n",
              "      <th>1</th>\n",
              "      <td>0.058824</td>\n",
              "      <td>0.427136</td>\n",
              "      <td>0.540984</td>\n",
              "      <td>0.292929</td>\n",
              "      <td>0.000000</td>\n",
              "      <td>0.396423</td>\n",
              "      <td>0.116567</td>\n",
              "      <td>31</td>\n",
              "      <td>0</td>\n",
              "      <td>C</td>\n",
              "    </tr>\n",
              "    <tr>\n",
              "      <th>2</th>\n",
              "      <td>0.470588</td>\n",
              "      <td>0.919598</td>\n",
              "      <td>0.524590</td>\n",
              "      <td>0.000000</td>\n",
              "      <td>0.000000</td>\n",
              "      <td>0.347243</td>\n",
              "      <td>0.253629</td>\n",
              "      <td>32</td>\n",
              "      <td>1</td>\n",
              "      <td>B</td>\n",
              "    </tr>\n",
              "    <tr>\n",
              "      <th>3</th>\n",
              "      <td>0.058824</td>\n",
              "      <td>0.447236</td>\n",
              "      <td>0.540984</td>\n",
              "      <td>0.232323</td>\n",
              "      <td>0.111111</td>\n",
              "      <td>0.418778</td>\n",
              "      <td>0.038002</td>\n",
              "      <td>21</td>\n",
              "      <td>0</td>\n",
              "      <td>B</td>\n",
              "    </tr>\n",
              "    <tr>\n",
              "      <th>4</th>\n",
              "      <td>0.000000</td>\n",
              "      <td>0.688442</td>\n",
              "      <td>0.327869</td>\n",
              "      <td>0.353535</td>\n",
              "      <td>0.198582</td>\n",
              "      <td>0.642325</td>\n",
              "      <td>0.943638</td>\n",
              "      <td>33</td>\n",
              "      <td>1</td>\n",
              "      <td>C</td>\n",
              "    </tr>\n",
              "  </tbody>\n",
              "</table>\n",
              "</div>"
            ],
            "text/plain": [
              "   Number_pregnant  Glucose_concentration  Blood_pressure  ...  Age  Class  Group\n",
              "0         0.352941               0.743719        0.590164  ...   50      1      B\n",
              "1         0.058824               0.427136        0.540984  ...   31      0      C\n",
              "2         0.470588               0.919598        0.524590  ...   32      1      B\n",
              "3         0.058824               0.447236        0.540984  ...   21      0      B\n",
              "4         0.000000               0.688442        0.327869  ...   33      1      C\n",
              "\n",
              "[5 rows x 10 columns]"
            ]
          },
          "metadata": {
            "tags": []
          },
          "execution_count": 7
        }
      ]
    },
    {
      "cell_type": "code",
      "metadata": {
        "colab": {
          "base_uri": "https://localhost:8080/",
          "height": 282
        },
        "id": "93DD-B96OyS6",
        "outputId": "fcf2c8df-6623-4931-e2a7-0fa8bc8c12e3"
      },
      "source": [
        "df['Age'].hist(bins=25)"
      ],
      "execution_count": 8,
      "outputs": [
        {
          "output_type": "execute_result",
          "data": {
            "text/plain": [
              "<matplotlib.axes._subplots.AxesSubplot at 0x7f882bd7fcc0>"
            ]
          },
          "metadata": {
            "tags": []
          },
          "execution_count": 8
        },
        {
          "output_type": "display_data",
          "data": {
            "image/png": "[encoded data removed]",
            "text/plain": [
              "<Figure size 432x288 with 1 Axes>"
            ]
          },
          "metadata": {
            "tags": [],
            "needs_background": "light"
          }
        }
      ]
    },
    {
      "cell_type": "code",
      "metadata": {
        "id": "FBGNBDxTUc2-"
      },
      "source": [
        "num_preg = tf.feature_column.numeric_column('Number_pregnant')\r\n",
        "plasma_gluc = tf.feature_column.numeric_column('Glucose_concentration')\r\n",
        "dias_press = tf.feature_column.numeric_column('Blood_pressure')\r\n",
        "bmi = tf.feature_column.numeric_column('BMI')\r\n",
        "tricep = tf.feature_column.numeric_column('Triceps')\r\n",
        "insulin = tf.feature_column.numeric_column('Insulin')\r\n",
        "diabetes_pedigree = tf.feature_column.numeric_column('Pedigree')\r\n",
        "age = tf.feature_column.numeric_column('Age')"
      ],
      "execution_count": 9,
      "outputs": []
    },
    {
      "cell_type": "code",
      "metadata": {
        "id": "AaFPNLT_ZsIA"
      },
      "source": [
        "assigned_group = tf.feature_column.categorical_column_with_hash_bucket('Group',hash_bucket_size=10)"
      ],
      "execution_count": 10,
      "outputs": []
    },
    {
      "cell_type": "code",
      "metadata": {
        "id": "LTjykZDSbFUP"
      },
      "source": [
        "age_bucket = tf.feature_column.bucketized_column(age,boundaries=[20,30,40,50,60,70,80])"
      ],
      "execution_count": 16,
      "outputs": []
    },
    {
      "cell_type": "code",
      "metadata": {
        "id": "1nPl2IvlcaRy"
      },
      "source": [
        "feat_cols = [num_preg,plasma_gluc,dias_press,bmi,tricep, insulin, diabetes_pedigree, age_bucket]"
      ],
      "execution_count": 17,
      "outputs": []
    },
    {
      "cell_type": "markdown",
      "metadata": {
        "id": "817ynjpnbTku"
      },
      "source": [
        "Train_test Split"
      ]
    },
    {
      "cell_type": "code",
      "metadata": {
        "id": "S5EkmutAbZnd"
      },
      "source": [
        "x_data = df.drop('Class', axis=1)"
      ],
      "execution_count": 18,
      "outputs": []
    },
    {
      "cell_type": "code",
      "metadata": {
        "colab": {
          "base_uri": "https://localhost:8080/",
          "height": 195
        },
        "id": "P2WwuFFWbraw",
        "outputId": "d6652a5d-38f3-4ee7-e581-825ca2911b82"
      },
      "source": [
        "x_data.head()"
      ],
      "execution_count": 19,
      "outputs": [
        {
          "output_type": "execute_result",
          "data": {
            "text/html": [
              "<div>\n",
              "<style scoped>\n",
              "    .dataframe tbody tr th:only-of-type {\n",
              "        vertical-align: middle;\n",
              "    }\n",
              "\n",
              "    .dataframe tbody tr th {\n",
              "        vertical-align: top;\n",
              "    }\n",
              "\n",
              "    .dataframe thead th {\n",
              "        text-align: right;\n",
              "    }\n",
              "</style>\n",
              "<table border=\"1\" class=\"dataframe\">\n",
              "  <thead>\n",
              "    <tr style=\"text-align: right;\">\n",
              "      <th></th>\n",
              "      <th>Number_pregnant</th>\n",
              "      <th>Glucose_concentration</th>\n",
              "      <th>Blood_pressure</th>\n",
              "      <th>Triceps</th>\n",
              "      <th>Insulin</th>\n",
              "      <th>BMI</th>\n",
              "      <th>Pedigree</th>\n",
              "      <th>Age</th>\n",
              "      <th>Group</th>\n",
              "    </tr>\n",
              "  </thead>\n",
              "  <tbody>\n",
              "    <tr>\n",
              "      <th>0</th>\n",
              "      <td>0.352941</td>\n",
              "      <td>0.743719</td>\n",
              "      <td>0.590164</td>\n",
              "      <td>0.353535</td>\n",
              "      <td>0.000000</td>\n",
              "      <td>0.500745</td>\n",
              "      <td>0.234415</td>\n",
              "      <td>50</td>\n",
              "      <td>B</td>\n",
              "    </tr>\n",
              "    <tr>\n",
              "      <th>1</th>\n",
              "      <td>0.058824</td>\n",
              "      <td>0.427136</td>\n",
              "      <td>0.540984</td>\n",
              "      <td>0.292929</td>\n",
              "      <td>0.000000</td>\n",
              "      <td>0.396423</td>\n",
              "      <td>0.116567</td>\n",
              "      <td>31</td>\n",
              "      <td>C</td>\n",
              "    </tr>\n",
              "    <tr>\n",
              "      <th>2</th>\n",
              "      <td>0.470588</td>\n",
              "      <td>0.919598</td>\n",
              "      <td>0.524590</td>\n",
              "      <td>0.000000</td>\n",
              "      <td>0.000000</td>\n",
              "      <td>0.347243</td>\n",
              "      <td>0.253629</td>\n",
              "      <td>32</td>\n",
              "      <td>B</td>\n",
              "    </tr>\n",
              "    <tr>\n",
              "      <th>3</th>\n",
              "      <td>0.058824</td>\n",
              "      <td>0.447236</td>\n",
              "      <td>0.540984</td>\n",
              "      <td>0.232323</td>\n",
              "      <td>0.111111</td>\n",
              "      <td>0.418778</td>\n",
              "      <td>0.038002</td>\n",
              "      <td>21</td>\n",
              "      <td>B</td>\n",
              "    </tr>\n",
              "    <tr>\n",
              "      <th>4</th>\n",
              "      <td>0.000000</td>\n",
              "      <td>0.688442</td>\n",
              "      <td>0.327869</td>\n",
              "      <td>0.353535</td>\n",
              "      <td>0.198582</td>\n",
              "      <td>0.642325</td>\n",
              "      <td>0.943638</td>\n",
              "      <td>33</td>\n",
              "      <td>C</td>\n",
              "    </tr>\n",
              "  </tbody>\n",
              "</table>\n",
              "</div>"
            ],
            "text/plain": [
              "   Number_pregnant  Glucose_concentration  Blood_pressure  ...  Pedigree  Age  Group\n",
              "0         0.352941               0.743719        0.590164  ...  0.234415   50      B\n",
              "1         0.058824               0.427136        0.540984  ...  0.116567   31      C\n",
              "2         0.470588               0.919598        0.524590  ...  0.253629   32      B\n",
              "3         0.058824               0.447236        0.540984  ...  0.038002   21      B\n",
              "4         0.000000               0.688442        0.327869  ...  0.943638   33      C\n",
              "\n",
              "[5 rows x 9 columns]"
            ]
          },
          "metadata": {
            "tags": []
          },
          "execution_count": 19
        }
      ]
    },
    {
      "cell_type": "code",
      "metadata": {
        "id": "_JyNyNeQcWpF"
      },
      "source": [
        "labels = df['Class']"
      ],
      "execution_count": 20,
      "outputs": []
    },
    {
      "cell_type": "code",
      "metadata": {
        "id": "ps9dmKZQeZLM"
      },
      "source": [
        "from sklearn.model_selection import train_test_split"
      ],
      "execution_count": 21,
      "outputs": []
    },
    {
      "cell_type": "code",
      "metadata": {
        "id": "TQv2NVJzfvdZ"
      },
      "source": [
        "X_train, X_test, y_train, y_test = train_test_split( x_data, labels, test_size=0.3, random_state=101)"
      ],
      "execution_count": 22,
      "outputs": []
    },
    {
      "cell_type": "code",
      "metadata": {
        "id": "xPGEOQw6gG57"
      },
      "source": [
        "input_func = tf.estimator.inputs.pandas_input_fn(x=X_train, y=y_train, batch_size=10, num_epochs=1000, shuffle=True)"
      ],
      "execution_count": 23,
      "outputs": []
    },
    {
      "cell_type": "code",
      "metadata": {
        "colab": {
          "base_uri": "https://localhost:8080/"
        },
        "id": "4kYayLUagrS8",
        "outputId": "b1a462ae-ce51-4852-e492-15f5ff733fc1"
      },
      "source": [
        "model = tf.estimator.LinearClassifier(feature_columns=feat_cols, n_classes=2)"
      ],
      "execution_count": 24,
      "outputs": [
        {
          "output_type": "stream",
          "text": [
            "INFO:tensorflow:Using default config.\n",
            "WARNING:tensorflow:Using temporary folder as model directory: /tmp/tmp4aagwqac\n",
            "INFO:tensorflow:Using config: {'_model_dir': '/tmp/tmp4aagwqac', '_tf_random_seed': 1, '_save_summary_steps': 100, '_save_checkpoints_secs': 600, '_save_checkpoints_steps': None, '_session_config': None, '_keep_checkpoint_max': 5, '_keep_checkpoint_every_n_hours': 10000, '_log_step_count_steps': 100}\n"
          ],
          "name": "stdout"
        }
      ]
    },
    {
      "cell_type": "code",
      "metadata": {
        "colab": {
          "base_uri": "https://localhost:8080/"
        },
        "id": "M5NZI9J2g2St",
        "outputId": "219a4045-1b7b-447e-ad36-4ef3404c6a13"
      },
      "source": [
        "model.train(input_fn=input_func, steps=1000)"
      ],
      "execution_count": 25,
      "outputs": [
        {
          "output_type": "stream",
          "text": [
            "INFO:tensorflow:Create CheckpointSaverHook.\n",
            "INFO:tensorflow:Saving checkpoints for 1 into /tmp/tmp4aagwqac/model.ckpt.\n",
            "INFO:tensorflow:loss = 6.931472, step = 1\n",
            "INFO:tensorflow:global_step/sec: 424.175\n",
            "INFO:tensorflow:loss = 5.3796344, step = 101 (0.242 sec)\n",
            "INFO:tensorflow:global_step/sec: 445.682\n",
            "INFO:tensorflow:loss = 6.188963, step = 201 (0.226 sec)\n",
            "INFO:tensorflow:global_step/sec: 342.223\n",
            "INFO:tensorflow:loss = 5.8515887, step = 301 (0.286 sec)\n",
            "INFO:tensorflow:global_step/sec: 370.449\n",
            "INFO:tensorflow:loss = 6.5953264, step = 401 (0.271 sec)\n",
            "INFO:tensorflow:global_step/sec: 388.886\n",
            "INFO:tensorflow:loss = 5.371883, step = 501 (0.258 sec)\n",
            "INFO:tensorflow:global_step/sec: 372.501\n",
            "INFO:tensorflow:loss = 4.191637, step = 601 (0.273 sec)\n",
            "INFO:tensorflow:global_step/sec: 368.277\n",
            "INFO:tensorflow:loss = 5.6623993, step = 701 (0.266 sec)\n",
            "INFO:tensorflow:global_step/sec: 335.353\n",
            "INFO:tensorflow:loss = 6.6606236, step = 801 (0.298 sec)\n",
            "INFO:tensorflow:global_step/sec: 390.134\n",
            "INFO:tensorflow:loss = 7.1151905, step = 901 (0.258 sec)\n",
            "INFO:tensorflow:Saving checkpoints for 1000 into /tmp/tmp4aagwqac/model.ckpt.\n",
            "INFO:tensorflow:Loss for final step: 2.2148604.\n"
          ],
          "name": "stdout"
        },
        {
          "output_type": "execute_result",
          "data": {
            "text/plain": [
              "<tensorflow.python.estimator.canned.linear.LinearClassifier at 0x7f880c3fccc0>"
            ]
          },
          "metadata": {
            "tags": []
          },
          "execution_count": 25
        }
      ]
    },
    {
      "cell_type": "code",
      "metadata": {
        "id": "BldONMw9hQSB"
      },
      "source": [
        "eval_input_func = tf.estimator.inputs.pandas_input_fn(x= X_test, y= y_test, batch_size=10, num_epochs=1, shuffle=False)"
      ],
      "execution_count": 26,
      "outputs": []
    },
    {
      "cell_type": "code",
      "metadata": {
        "colab": {
          "base_uri": "https://localhost:8080/"
        },
        "id": "EnL6X4wXh1S9",
        "outputId": "0cf6ff5f-349c-42ab-dca0-2c510c099831"
      },
      "source": [
        "model.evaluate(input_fn=eval_input_func)"
      ],
      "execution_count": 27,
      "outputs": [
        {
          "output_type": "stream",
          "text": [
            "WARNING:tensorflow:Casting <dtype: 'float32'> labels to bool.\n",
            "WARNING:tensorflow:Casting <dtype: 'float32'> labels to bool.\n",
            "INFO:tensorflow:Starting evaluation at 2021-01-29-19:04:21\n",
            "INFO:tensorflow:Restoring parameters from /tmp/tmp4aagwqac/model.ckpt-1000\n",
            "INFO:tensorflow:Finished evaluation at 2021-01-29-19:04:21\n",
            "INFO:tensorflow:Saving dict for global step 1000: accuracy = 0.73593074, accuracy_baseline = 0.64935064, auc = 0.7968313, auc_precision_recall = 0.64669347, average_loss = 0.5265023, global_step = 1000, label/mean = 0.35064936, loss = 5.067585, prediction/mean = 0.34929478\n"
          ],
          "name": "stdout"
        },
        {
          "output_type": "execute_result",
          "data": {
            "text/plain": [
              "{'accuracy': 0.73593074,\n",
              " 'accuracy_baseline': 0.64935064,\n",
              " 'auc': 0.7968313,\n",
              " 'auc_precision_recall': 0.64669347,\n",
              " 'average_loss': 0.5265023,\n",
              " 'global_step': 1000,\n",
              " 'label/mean': 0.35064936,\n",
              " 'loss': 5.067585,\n",
              " 'prediction/mean': 0.34929478}"
            ]
          },
          "metadata": {
            "tags": []
          },
          "execution_count": 27
        }
      ]
    },
    {
      "cell_type": "code",
      "metadata": {
        "id": "mX2irzbxiCuv"
      },
      "source": [
        "pred_input_func = tf.estimator.inputs.pandas_input_fn(x=X_test,batch_size=10,num_epochs=1, shuffle=False)"
      ],
      "execution_count": 28,
      "outputs": []
    },
    {
      "cell_type": "code",
      "metadata": {
        "id": "1mwZMfN8iepx"
      },
      "source": [
        "results = model.predict(input_fn= pred_input_func)"
      ],
      "execution_count": 43,
      "outputs": []
    },
    {
      "cell_type": "code",
      "metadata": {
        "colab": {
          "base_uri": "https://localhost:8080/"
        },
        "id": "V6ECgiM1ikG6",
        "outputId": "431d0c32-fad7-4745-9a02-89b730af348f"
      },
      "source": [
        "results = list(results)"
      ],
      "execution_count": 44,
      "outputs": [
        {
          "output_type": "stream",
          "text": [
            "INFO:tensorflow:Restoring parameters from /tmp/tmp4aagwqac/model.ckpt-1000\n"
          ],
          "name": "stdout"
        }
      ]
    },
    {
      "cell_type": "code",
      "metadata": {
        "colab": {
          "base_uri": "https://localhost:8080/"
        },
        "id": "oQD1cxQBir6S",
        "outputId": "c0303e0e-2e8b-4dd9-f035-a09b15b1cd3d"
      },
      "source": [
        "results[:20]"
      ],
      "execution_count": 46,
      "outputs": [
        {
          "output_type": "execute_result",
          "data": {
            "text/plain": [
              "[{'class_ids': array([0]),\n",
              "  'classes': array([b'0'], dtype=object),\n",
              "  'logistic': array([0.4955111], dtype=float32),\n",
              "  'logits': array([-0.01795602], dtype=float32),\n",
              "  'probabilities': array([0.5044889 , 0.49551114], dtype=float32)},\n",
              " {'class_ids': array([1]),\n",
              "  'classes': array([b'1'], dtype=object),\n",
              "  'logistic': array([0.6086237], dtype=float32),\n",
              "  'logits': array([0.4415306], dtype=float32),\n",
              "  'probabilities': array([0.39137632, 0.6086237 ], dtype=float32)},\n",
              " {'class_ids': array([0]),\n",
              "  'classes': array([b'0'], dtype=object),\n",
              "  'logistic': array([0.37374052], dtype=float32),\n",
              "  'logits': array([-0.51620305], dtype=float32),\n",
              "  'probabilities': array([0.6262595 , 0.37374052], dtype=float32)},\n",
              " {'class_ids': array([0]),\n",
              "  'classes': array([b'0'], dtype=object),\n",
              "  'logistic': array([0.28833526], dtype=float32),\n",
              "  'logits': array([-0.90348303], dtype=float32),\n",
              "  'probabilities': array([0.71166474, 0.28833526], dtype=float32)},\n",
              " {'class_ids': array([0]),\n",
              "  'classes': array([b'0'], dtype=object),\n",
              "  'logistic': array([0.1221714], dtype=float32),\n",
              "  'logits': array([-1.9720263], dtype=float32),\n",
              "  'probabilities': array([0.8778286, 0.1221714], dtype=float32)},\n",
              " {'class_ids': array([1]),\n",
              "  'classes': array([b'1'], dtype=object),\n",
              "  'logistic': array([0.63768625], dtype=float32),\n",
              "  'logits': array([0.56533587], dtype=float32),\n",
              "  'probabilities': array([0.36231375, 0.63768625], dtype=float32)},\n",
              " {'class_ids': array([1]),\n",
              "  'classes': array([b'1'], dtype=object),\n",
              "  'logistic': array([0.58399624], dtype=float32),\n",
              "  'logits': array([0.33920002], dtype=float32),\n",
              "  'probabilities': array([0.41600385, 0.58399624], dtype=float32)},\n",
              " {'class_ids': array([0]),\n",
              "  'classes': array([b'0'], dtype=object),\n",
              "  'logistic': array([0.3247007], dtype=float32),\n",
              "  'logits': array([-0.73225206], dtype=float32),\n",
              "  'probabilities': array([0.6752993, 0.3247007], dtype=float32)},\n",
              " {'class_ids': array([0]),\n",
              "  'classes': array([b'0'], dtype=object),\n",
              "  'logistic': array([0.21404786], dtype=float32),\n",
              "  'logits': array([-1.3006963], dtype=float32),\n",
              "  'probabilities': array([0.78595215, 0.21404788], dtype=float32)},\n",
              " {'class_ids': array([0]),\n",
              "  'classes': array([b'0'], dtype=object),\n",
              "  'logistic': array([0.21435772], dtype=float32),\n",
              "  'logits': array([-1.2988554], dtype=float32),\n",
              "  'probabilities': array([0.7856423 , 0.21435772], dtype=float32)},\n",
              " {'class_ids': array([0]),\n",
              "  'classes': array([b'0'], dtype=object),\n",
              "  'logistic': array([0.13831732], dtype=float32),\n",
              "  'logits': array([-1.8293366], dtype=float32),\n",
              "  'probabilities': array([0.86168265, 0.13831732], dtype=float32)},\n",
              " {'class_ids': array([0]),\n",
              "  'classes': array([b'0'], dtype=object),\n",
              "  'logistic': array([0.13796422], dtype=float32),\n",
              "  'logits': array([-1.8323025], dtype=float32),\n",
              "  'probabilities': array([0.86203575, 0.1379642 ], dtype=float32)},\n",
              " {'class_ids': array([0]),\n",
              "  'classes': array([b'0'], dtype=object),\n",
              "  'logistic': array([0.2808142], dtype=float32),\n",
              "  'logits': array([-0.94042647], dtype=float32),\n",
              "  'probabilities': array([0.7191858, 0.2808142], dtype=float32)},\n",
              " {'class_ids': array([1]),\n",
              "  'classes': array([b'1'], dtype=object),\n",
              "  'logistic': array([0.536424], dtype=float32),\n",
              "  'logits': array([0.14595437], dtype=float32),\n",
              "  'probabilities': array([0.46357608, 0.536424  ], dtype=float32)},\n",
              " {'class_ids': array([0]),\n",
              "  'classes': array([b'0'], dtype=object),\n",
              "  'logistic': array([0.1799436], dtype=float32),\n",
              "  'logits': array([-1.5167296], dtype=float32),\n",
              "  'probabilities': array([0.82005644, 0.17994362], dtype=float32)},\n",
              " {'class_ids': array([0]),\n",
              "  'classes': array([b'0'], dtype=object),\n",
              "  'logistic': array([0.32705545], dtype=float32),\n",
              "  'logits': array([-0.7215332], dtype=float32),\n",
              "  'probabilities': array([0.67294455, 0.32705545], dtype=float32)},\n",
              " {'class_ids': array([0]),\n",
              "  'classes': array([b'0'], dtype=object),\n",
              "  'logistic': array([0.3575631], dtype=float32),\n",
              "  'logits': array([-0.58595663], dtype=float32),\n",
              "  'probabilities': array([0.64243686, 0.3575631 ], dtype=float32)},\n",
              " {'class_ids': array([0]),\n",
              "  'classes': array([b'0'], dtype=object),\n",
              "  'logistic': array([0.13234837], dtype=float32),\n",
              "  'logits': array([-1.8803527], dtype=float32),\n",
              "  'probabilities': array([0.86765164, 0.13234836], dtype=float32)},\n",
              " {'class_ids': array([0]),\n",
              "  'classes': array([b'0'], dtype=object),\n",
              "  'logistic': array([0.35139382], dtype=float32),\n",
              "  'logits': array([-0.61291826], dtype=float32),\n",
              "  'probabilities': array([0.6486062 , 0.35139376], dtype=float32)},\n",
              " {'class_ids': array([0]),\n",
              "  'classes': array([b'0'], dtype=object),\n",
              "  'logistic': array([0.12926817], dtype=float32),\n",
              "  'logits': array([-1.907445], dtype=float32),\n",
              "  'probabilities': array([0.87073183, 0.12926817], dtype=float32)}]"
            ]
          },
          "metadata": {
            "tags": []
          },
          "execution_count": 46
        }
      ]
    },
    {
      "cell_type": "markdown",
      "metadata": {
        "id": "PewONv0sjhHZ"
      },
      "source": [
        "DNN Classifier"
      ]
    },
    {
      "cell_type": "code",
      "metadata": {
        "colab": {
          "base_uri": "https://localhost:8080/"
        },
        "id": "NGSrVc43jkgM",
        "outputId": "dc818e60-dc2e-468d-acea-78f39b04e336"
      },
      "source": [
        "dnn_model = tf.estimator.DNNClassifier(hidden_units=[10,10,10], feature_columns=feat_cols, n_classes=2)"
      ],
      "execution_count": 32,
      "outputs": [
        {
          "output_type": "stream",
          "text": [
            "INFO:tensorflow:Using default config.\n",
            "WARNING:tensorflow:Using temporary folder as model directory: /tmp/tmpwmd42gu8\n",
            "INFO:tensorflow:Using config: {'_model_dir': '/tmp/tmpwmd42gu8', '_tf_random_seed': 1, '_save_summary_steps': 100, '_save_checkpoints_secs': 600, '_save_checkpoints_steps': None, '_session_config': None, '_keep_checkpoint_max': 5, '_keep_checkpoint_every_n_hours': 10000, '_log_step_count_steps': 100}\n"
          ],
          "name": "stdout"
        }
      ]
    },
    {
      "cell_type": "code",
      "metadata": {
        "colab": {
          "base_uri": "https://localhost:8080/"
        },
        "id": "1vRZe2NFj9wZ",
        "outputId": "e7dd0b45-2c68-40be-d282-f9003fe444b1"
      },
      "source": [
        "dnn_model.train(input_fn=input_func, steps=1000)"
      ],
      "execution_count": 33,
      "outputs": [
        {
          "output_type": "stream",
          "text": [
            "INFO:tensorflow:Create CheckpointSaverHook.\n",
            "INFO:tensorflow:Saving checkpoints for 1 into /tmp/tmpwmd42gu8/model.ckpt.\n",
            "INFO:tensorflow:loss = 7.1171036, step = 1\n",
            "INFO:tensorflow:global_step/sec: 414.307\n",
            "INFO:tensorflow:loss = 5.7135425, step = 101 (0.248 sec)\n",
            "INFO:tensorflow:global_step/sec: 398.149\n",
            "INFO:tensorflow:loss = 5.720928, step = 201 (0.247 sec)\n",
            "INFO:tensorflow:global_step/sec: 449.497\n",
            "INFO:tensorflow:loss = 3.7131052, step = 301 (0.221 sec)\n",
            "INFO:tensorflow:global_step/sec: 379.162\n",
            "INFO:tensorflow:loss = 4.6290455, step = 401 (0.265 sec)\n",
            "INFO:tensorflow:global_step/sec: 414.637\n",
            "INFO:tensorflow:loss = 3.4341428, step = 501 (0.241 sec)\n",
            "INFO:tensorflow:global_step/sec: 396.767\n",
            "INFO:tensorflow:loss = 4.6665707, step = 601 (0.250 sec)\n",
            "INFO:tensorflow:global_step/sec: 383.048\n",
            "INFO:tensorflow:loss = 3.5992398, step = 701 (0.264 sec)\n",
            "INFO:tensorflow:global_step/sec: 352.738\n",
            "INFO:tensorflow:loss = 4.9273868, step = 801 (0.282 sec)\n",
            "INFO:tensorflow:global_step/sec: 396.28\n",
            "INFO:tensorflow:loss = 4.9333777, step = 901 (0.252 sec)\n",
            "INFO:tensorflow:Saving checkpoints for 1000 into /tmp/tmpwmd42gu8/model.ckpt.\n",
            "INFO:tensorflow:Loss for final step: 6.2954435.\n"
          ],
          "name": "stdout"
        },
        {
          "output_type": "execute_result",
          "data": {
            "text/plain": [
              "<tensorflow.python.estimator.canned.dnn.DNNClassifier at 0x7f880b61a8d0>"
            ]
          },
          "metadata": {
            "tags": []
          },
          "execution_count": 33
        }
      ]
    },
    {
      "cell_type": "code",
      "metadata": {
        "colab": {
          "base_uri": "https://localhost:8080/"
        },
        "id": "_t6K3HrNkJUK",
        "outputId": "656babac-cde8-42fd-c4bb-e3905bc3eabf"
      },
      "source": [
        "eval_dnn_model = dnn_model.evaluate(input_fn= eval_input_func)"
      ],
      "execution_count": 34,
      "outputs": [
        {
          "output_type": "stream",
          "text": [
            "WARNING:tensorflow:Casting <dtype: 'float32'> labels to bool.\n",
            "WARNING:tensorflow:Casting <dtype: 'float32'> labels to bool.\n",
            "INFO:tensorflow:Starting evaluation at 2021-01-29-19:16:54\n",
            "INFO:tensorflow:Restoring parameters from /tmp/tmpwmd42gu8/model.ckpt-1000\n",
            "INFO:tensorflow:Finished evaluation at 2021-01-29-19:16:55\n",
            "INFO:tensorflow:Saving dict for global step 1000: accuracy = 0.7619048, accuracy_baseline = 0.64935064, auc = 0.8295473, auc_precision_recall = 0.7017663, average_loss = 0.48878902, global_step = 1000, label/mean = 0.35064936, loss = 4.704594, prediction/mean = 0.38724056\n"
          ],
          "name": "stdout"
        }
      ]
    },
    {
      "cell_type": "code",
      "metadata": {
        "colab": {
          "base_uri": "https://localhost:8080/"
        },
        "id": "SF4hMmOIk6w9",
        "outputId": "4e407589-f656-4774-af59-a45c7c745b8c"
      },
      "source": [
        "eval_dnn_model"
      ],
      "execution_count": 35,
      "outputs": [
        {
          "output_type": "execute_result",
          "data": {
            "text/plain": [
              "{'accuracy': 0.7619048,\n",
              " 'accuracy_baseline': 0.64935064,\n",
              " 'auc': 0.8295473,\n",
              " 'auc_precision_recall': 0.7017663,\n",
              " 'average_loss': 0.48878902,\n",
              " 'global_step': 1000,\n",
              " 'label/mean': 0.35064936,\n",
              " 'loss': 4.704594,\n",
              " 'prediction/mean': 0.38724056}"
            ]
          },
          "metadata": {
            "tags": []
          },
          "execution_count": 35
        }
      ]
    },
    {
      "cell_type": "code",
      "metadata": {
        "id": "C_wqwVUnk-vD"
      },
      "source": [
        "predictions = dnn_model.predict(input_fn= pred_input_func)"
      ],
      "execution_count": 48,
      "outputs": []
    },
    {
      "cell_type": "code",
      "metadata": {
        "colab": {
          "base_uri": "https://localhost:8080/"
        },
        "id": "nAe3fXEMlPRp",
        "outputId": "e60fbf2d-aee7-4248-fb54-9d3599caa74d"
      },
      "source": [
        "predictions = list(predictions)\r\n",
        "predictions[:20]"
      ],
      "execution_count": 49,
      "outputs": [
        {
          "output_type": "stream",
          "text": [
            "INFO:tensorflow:Restoring parameters from /tmp/tmpwmd42gu8/model.ckpt-1000\n"
          ],
          "name": "stdout"
        },
        {
          "output_type": "execute_result",
          "data": {
            "text/plain": [
              "[{'class_ids': array([1]),\n",
              "  'classes': array([b'1'], dtype=object),\n",
              "  'logistic': array([0.5282613], dtype=float32),\n",
              "  'logits': array([0.11316574], dtype=float32),\n",
              "  'probabilities': array([0.47173873, 0.5282613 ], dtype=float32)},\n",
              " {'class_ids': array([1]),\n",
              "  'classes': array([b'1'], dtype=object),\n",
              "  'logistic': array([0.80332786], dtype=float32),\n",
              "  'logits': array([1.4072245], dtype=float32),\n",
              "  'probabilities': array([0.1966722 , 0.80332786], dtype=float32)},\n",
              " {'class_ids': array([0]),\n",
              "  'classes': array([b'0'], dtype=object),\n",
              "  'logistic': array([0.34369552], dtype=float32),\n",
              "  'logits': array([-0.6468687], dtype=float32),\n",
              "  'probabilities': array([0.6563045, 0.3436955], dtype=float32)},\n",
              " {'class_ids': array([0]),\n",
              "  'classes': array([b'0'], dtype=object),\n",
              "  'logistic': array([0.30612347], dtype=float32),\n",
              "  'logits': array([-0.8183055], dtype=float32),\n",
              "  'probabilities': array([0.69387656, 0.3061235 ], dtype=float32)},\n",
              " {'class_ids': array([0]),\n",
              "  'classes': array([b'0'], dtype=object),\n",
              "  'logistic': array([0.04840407], dtype=float32),\n",
              "  'logits': array([-2.9785566], dtype=float32),\n",
              "  'probabilities': array([0.9515959 , 0.04840406], dtype=float32)},\n",
              " {'class_ids': array([1]),\n",
              "  'classes': array([b'1'], dtype=object),\n",
              "  'logistic': array([0.9208218], dtype=float32),\n",
              "  'logits': array([2.4535656], dtype=float32),\n",
              "  'probabilities': array([0.0791782, 0.9208218], dtype=float32)},\n",
              " {'class_ids': array([1]),\n",
              "  'classes': array([b'1'], dtype=object),\n",
              "  'logistic': array([0.80128986], dtype=float32),\n",
              "  'logits': array([1.3943753], dtype=float32),\n",
              "  'probabilities': array([0.19871019, 0.80128986], dtype=float32)},\n",
              " {'class_ids': array([0]),\n",
              "  'classes': array([b'0'], dtype=object),\n",
              "  'logistic': array([0.18216725], dtype=float32),\n",
              "  'logits': array([-1.5017326], dtype=float32),\n",
              "  'probabilities': array([0.81783277, 0.18216726], dtype=float32)},\n",
              " {'class_ids': array([0]),\n",
              "  'classes': array([b'0'], dtype=object),\n",
              "  'logistic': array([0.22254954], dtype=float32),\n",
              "  'logits': array([-1.2508701], dtype=float32),\n",
              "  'probabilities': array([0.77745044, 0.22254956], dtype=float32)},\n",
              " {'class_ids': array([0]),\n",
              "  'classes': array([b'0'], dtype=object),\n",
              "  'logistic': array([0.1838297], dtype=float32),\n",
              "  'logits': array([-1.4906132], dtype=float32),\n",
              "  'probabilities': array([0.8161703, 0.1838297], dtype=float32)},\n",
              " {'class_ids': array([0]),\n",
              "  'classes': array([b'0'], dtype=object),\n",
              "  'logistic': array([0.06637098], dtype=float32),\n",
              "  'logits': array([-2.6438193], dtype=float32),\n",
              "  'probabilities': array([0.933629  , 0.06637097], dtype=float32)},\n",
              " {'class_ids': array([0]),\n",
              "  'classes': array([b'0'], dtype=object),\n",
              "  'logistic': array([0.11727341], dtype=float32),\n",
              "  'logits': array([-2.0185075], dtype=float32),\n",
              "  'probabilities': array([0.88272655, 0.1172734 ], dtype=float32)},\n",
              " {'class_ids': array([0]),\n",
              "  'classes': array([b'0'], dtype=object),\n",
              "  'logistic': array([0.16912545], dtype=float32),\n",
              "  'logits': array([-1.5918381], dtype=float32),\n",
              "  'probabilities': array([0.8308746 , 0.16912545], dtype=float32)},\n",
              " {'class_ids': array([1]),\n",
              "  'classes': array([b'1'], dtype=object),\n",
              "  'logistic': array([0.71074903], dtype=float32),\n",
              "  'logits': array([0.8990245], dtype=float32),\n",
              "  'probabilities': array([0.28925103, 0.71074903], dtype=float32)},\n",
              " {'class_ids': array([0]),\n",
              "  'classes': array([b'0'], dtype=object),\n",
              "  'logistic': array([0.20396452], dtype=float32),\n",
              "  'logits': array([-1.3616977], dtype=float32),\n",
              "  'probabilities': array([0.7960355 , 0.20396453], dtype=float32)},\n",
              " {'class_ids': array([1]),\n",
              "  'classes': array([b'1'], dtype=object),\n",
              "  'logistic': array([0.8342466], dtype=float32),\n",
              "  'logits': array([1.616028], dtype=float32),\n",
              "  'probabilities': array([0.1657534, 0.8342466], dtype=float32)},\n",
              " {'class_ids': array([1]),\n",
              "  'classes': array([b'1'], dtype=object),\n",
              "  'logistic': array([0.77058864], dtype=float32),\n",
              "  'logits': array([1.2116382], dtype=float32),\n",
              "  'probabilities': array([0.2294113 , 0.77058864], dtype=float32)},\n",
              " {'class_ids': array([0]),\n",
              "  'classes': array([b'0'], dtype=object),\n",
              "  'logistic': array([0.05517767], dtype=float32),\n",
              "  'logits': array([-2.8404386], dtype=float32),\n",
              "  'probabilities': array([0.9448224 , 0.05517767], dtype=float32)},\n",
              " {'class_ids': array([0]),\n",
              "  'classes': array([b'0'], dtype=object),\n",
              "  'logistic': array([0.30154738], dtype=float32),\n",
              "  'logits': array([-0.8399402], dtype=float32),\n",
              "  'probabilities': array([0.6984526 , 0.30154738], dtype=float32)},\n",
              " {'class_ids': array([0]),\n",
              "  'classes': array([b'0'], dtype=object),\n",
              "  'logistic': array([0.04423571], dtype=float32),\n",
              "  'logits': array([-3.072979], dtype=float32),\n",
              "  'probabilities': array([0.95576423, 0.04423571], dtype=float32)}]"
            ]
          },
          "metadata": {
            "tags": []
          },
          "execution_count": 49
        }
      ]
    },
    {
      "cell_type": "code",
      "metadata": {
        "id": "B0J2UV2ClQfH"
      },
      "source": [
        ""
      ],
      "execution_count": null,
      "outputs": []
    }
  ]
}