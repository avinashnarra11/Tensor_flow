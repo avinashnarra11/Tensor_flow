{
  "nbformat": 4,
  "nbformat_minor": 0,
  "metadata": {
    "colab": {
      "name": "Untitled1.ipynb",
      "provenance": [],
      "collapsed_sections": [],
      "toc_visible": true,
      "authorship_tag": "ABX9TyMCyfqvf+QmP4F/zqNBEfzd",
      "include_colab_link": true
    },
    "kernelspec": {
      "name": "python3",
      "display_name": "Python 3"
    }
  },
  "cells": [
    {
      "cell_type": "markdown",
      "metadata": {
        "id": "view-in-github",
        "colab_type": "text"
      },
      "source": [
        "<a href=\"https://colab.research.google.com/github/avinashnarra11/Tensor_flow/blob/main/Intro.ipynb\" target=\"_parent\"><img src=\"https://colab.research.google.com/assets/colab-badge.svg\" alt=\"Open In Colab\"/></a>"
      ]
    },
    {
      "cell_type": "code",
      "metadata": {
        "id": "wLxvuhvVNL95"
      },
      "source": [
        "import tensorflow as tf"
      ],
      "execution_count": 1,
      "outputs": []
    },
    {
      "cell_type": "markdown",
      "metadata": {
        "id": "UkTCGhOlZfKN"
      },
      "source": [
        "#Operations Class\r\n"
      ]
    },
    {
      "cell_type": "code",
      "metadata": {
        "colab": {
          "base_uri": "https://localhost:8080/"
        },
        "id": "M1EPDdVpc24G",
        "outputId": "cb696d53-7a89-440b-dd64-690457893e48"
      },
      "source": [
        "print(tf.__version__)"
      ],
      "execution_count": 2,
      "outputs": [
        {
          "output_type": "stream",
          "text": [
            "1.3.0\n"
          ],
          "name": "stdout"
        }
      ]
    },
    {
      "cell_type": "code",
      "metadata": {
        "id": "9S_vriUuc6Wf"
      },
      "source": [
        "hello = tf.constant(\"Hello\")"
      ],
      "execution_count": 3,
      "outputs": []
    },
    {
      "cell_type": "code",
      "metadata": {
        "id": "a8Lhlt-Goz1X"
      },
      "source": [
        "world = tf.constant(\"World\")"
      ],
      "execution_count": 7,
      "outputs": []
    },
    {
      "cell_type": "code",
      "metadata": {
        "colab": {
          "base_uri": "https://localhost:8080/"
        },
        "id": "gCU2-OpgdSoj",
        "outputId": "ce82695f-2726-4469-db02-d298dcf9afd7"
      },
      "source": [
        "type(hello)"
      ],
      "execution_count": 4,
      "outputs": [
        {
          "output_type": "execute_result",
          "data": {
            "text/plain": [
              "tensorflow.python.framework.ops.Tensor"
            ]
          },
          "metadata": {
            "tags": []
          },
          "execution_count": 4
        }
      ]
    },
    {
      "cell_type": "code",
      "metadata": {
        "colab": {
          "base_uri": "https://localhost:8080/"
        },
        "id": "LhXzfPGAdUJZ",
        "outputId": "9fd8d650-a65e-45a7-9f5a-d7b934d1894c"
      },
      "source": [
        "print(hello)"
      ],
      "execution_count": 5,
      "outputs": [
        {
          "output_type": "stream",
          "text": [
            "Tensor(\"Const:0\", shape=(), dtype=string)\n"
          ],
          "name": "stdout"
        }
      ]
    },
    {
      "cell_type": "code",
      "metadata": {
        "id": "hZCLIXD5mKTu"
      },
      "source": [
        "with tf.Session() as sess:\r\n",
        "    result = sess.run(hello+world)"
      ],
      "execution_count": 9,
      "outputs": []
    },
    {
      "cell_type": "code",
      "metadata": {
        "colab": {
          "base_uri": "https://localhost:8080/"
        },
        "id": "urUwqRnUoYyn",
        "outputId": "271cd8ab-49ee-40c7-c54b-5a871b97bdeb"
      },
      "source": [
        "print(result) "
      ],
      "execution_count": 11,
      "outputs": [
        {
          "output_type": "stream",
          "text": [
            "b'HelloWorld'\n"
          ],
          "name": "stdout"
        }
      ]
    },
    {
      "cell_type": "code",
      "metadata": {
        "colab": {
          "base_uri": "https://localhost:8080/"
        },
        "id": "ngTCK32ao99O",
        "outputId": "2a0f3939-550d-4226-e5da-66f256645b67"
      },
      "source": [
        "print(tf.get_default_graph())"
      ],
      "execution_count": 12,
      "outputs": [
        {
          "output_type": "stream",
          "text": [
            "<tensorflow.python.framework.ops.Graph object at 0x7f4694c585c0>\n"
          ],
          "name": "stdout"
        }
      ]
    },
    {
      "cell_type": "code",
      "metadata": {
        "id": "CYuPZ8ItuEGk"
      },
      "source": [
        "graph_one = tf.get_default_graph()"
      ],
      "execution_count": 13,
      "outputs": []
    },
    {
      "cell_type": "code",
      "metadata": {
        "id": "Y-Cxosqi4rvY"
      },
      "source": [
        "graph_two = tf.Graph()"
      ],
      "execution_count": 14,
      "outputs": []
    },
    {
      "cell_type": "code",
      "metadata": {
        "colab": {
          "base_uri": "https://localhost:8080/"
        },
        "id": "as2-dTv84xQe",
        "outputId": "305c0115-7999-45a5-a736-b6b2856e4eda"
      },
      "source": [
        "print(graph_two)"
      ],
      "execution_count": 16,
      "outputs": [
        {
          "output_type": "stream",
          "text": [
            "<tensorflow.python.framework.ops.Graph object at 0x7f468374bb38>\n"
          ],
          "name": "stdout"
        }
      ]
    },
    {
      "cell_type": "code",
      "metadata": {
        "id": "D5jkM7nW40C-"
      },
      "source": [
        "sess = tf.InteractiveSession()"
      ],
      "execution_count": 17,
      "outputs": []
    },
    {
      "cell_type": "code",
      "metadata": {
        "id": "-HiG94UN72Y_"
      },
      "source": [
        "my_tensor = tf.random_uniform((4,4))"
      ],
      "execution_count": 18,
      "outputs": []
    },
    {
      "cell_type": "code",
      "metadata": {
        "id": "NT1lM0Zu8woy"
      },
      "source": [
        "my_var = tf.Variable(initial_value= my_tensor)"
      ],
      "execution_count": 24,
      "outputs": []
    },
    {
      "cell_type": "code",
      "metadata": {
        "id": "riGkj3HV9MP8"
      },
      "source": [
        "#sess.run(my_var) doesnot work.\r\n",
        "#We cannot run the uninitialized variable my_var"
      ],
      "execution_count": 28,
      "outputs": []
    },
    {
      "cell_type": "code",
      "metadata": {
        "id": "swGWToJj9xOo"
      },
      "source": [
        "init = tf.global_variables_initializer()"
      ],
      "execution_count": 33,
      "outputs": []
    },
    {
      "cell_type": "code",
      "metadata": {
        "id": "MCBmSNpO9yPr"
      },
      "source": [
        "sess.run(init)"
      ],
      "execution_count": 34,
      "outputs": []
    },
    {
      "cell_type": "code",
      "metadata": {
        "colab": {
          "base_uri": "https://localhost:8080/"
        },
        "id": "PnfMCQye-CuG",
        "outputId": "fd88fb3e-5e85-43a5-8e6f-cd643e85928f"
      },
      "source": [
        "sess.run(my_var)"
      ],
      "execution_count": 35,
      "outputs": [
        {
          "output_type": "execute_result",
          "data": {
            "text/plain": [
              "array([[0.79149294, 0.9387727 , 0.26962566, 0.11714041],\n",
              "       [0.37079966, 0.82634187, 0.05828655, 0.7437786 ],\n",
              "       [0.02560842, 0.66544855, 0.8564489 , 0.7732128 ],\n",
              "       [0.15760744, 0.8888345 , 0.25943398, 0.39038277]], dtype=float32)"
            ]
          },
          "metadata": {
            "tags": []
          },
          "execution_count": 35
        }
      ]
    },
    {
      "cell_type": "code",
      "metadata": {
        "id": "Fl9gRQxO-pno"
      },
      "source": [
        "ph = tf.placeholder(tf.float32, shape = (None,5))"
      ],
      "execution_count": 36,
      "outputs": []
    },
    {
      "cell_type": "markdown",
      "metadata": {
        "id": "169QWd_LAJHY"
      },
      "source": [
        "TF Graphs"
      ]
    },
    {
      "cell_type": "code",
      "metadata": {
        "id": "xfYxoc_xALJq"
      },
      "source": [
        "import numpy as np"
      ],
      "execution_count": 37,
      "outputs": []
    },
    {
      "cell_type": "code",
      "metadata": {
        "id": "AxXzxKpYAsXQ"
      },
      "source": [
        "np.random.seed(101)\r\n",
        "tf.set_random_seed(101)"
      ],
      "execution_count": 41,
      "outputs": []
    },
    {
      "cell_type": "code",
      "metadata": {
        "id": "peGt0WDOC70l"
      },
      "source": [
        "rand_a = np.random.uniform(0,100,(5,5))"
      ],
      "execution_count": 42,
      "outputs": []
    },
    {
      "cell_type": "code",
      "metadata": {
        "colab": {
          "base_uri": "https://localhost:8080/"
        },
        "id": "x0W_XVk2DKJI",
        "outputId": "42ecb9b8-3c61-4cf6-a2c3-9a04d11380a0"
      },
      "source": [
        "rand_a"
      ],
      "execution_count": 43,
      "outputs": [
        {
          "output_type": "execute_result",
          "data": {
            "text/plain": [
              "array([[51.63986277, 57.06675869,  2.84742265, 17.15216562, 68.52769817],\n",
              "       [83.38968626, 30.69662197, 89.36130797, 72.15438618, 18.99389542],\n",
              "       [55.42275911, 35.2131954 , 18.18924027, 78.56017619, 96.54832224],\n",
              "       [23.23536618,  8.35614337, 60.35484223, 72.89927573, 27.62388285],\n",
              "       [68.53063288, 51.78674742,  4.84845374, 13.78692376, 18.69674261]])"
            ]
          },
          "metadata": {
            "tags": []
          },
          "execution_count": 43
        }
      ]
    },
    {
      "cell_type": "code",
      "metadata": {
        "id": "muNVpi8RDLP-"
      },
      "source": [
        "rand_b = np.random.uniform(0,100,(5,1))"
      ],
      "execution_count": 44,
      "outputs": []
    },
    {
      "cell_type": "code",
      "metadata": {
        "colab": {
          "base_uri": "https://localhost:8080/"
        },
        "id": "wRweG6jgDWGa",
        "outputId": "0c1391ec-2af3-4edc-b229-d0d6334af09e"
      },
      "source": [
        "rand_b"
      ],
      "execution_count": 46,
      "outputs": [
        {
          "output_type": "execute_result",
          "data": {
            "text/plain": [
              "array([[99.43179012],\n",
              "       [52.06653967],\n",
              "       [57.87895355],\n",
              "       [73.48190583],\n",
              "       [54.19617722]])"
            ]
          },
          "metadata": {
            "tags": []
          },
          "execution_count": 46
        }
      ]
    },
    {
      "cell_type": "code",
      "metadata": {
        "id": "A6OSJ5LwDW2T"
      },
      "source": [
        "a = tf.placeholder(tf.float32)"
      ],
      "execution_count": 47,
      "outputs": []
    },
    {
      "cell_type": "code",
      "metadata": {
        "id": "wpGpolnhFMr3"
      },
      "source": [
        "b= tf.placeholder(tf.float32)"
      ],
      "execution_count": 48,
      "outputs": []
    },
    {
      "cell_type": "code",
      "metadata": {
        "id": "JUJofblpFRoX"
      },
      "source": [
        "add_op = a+b"
      ],
      "execution_count": 53,
      "outputs": []
    },
    {
      "cell_type": "code",
      "metadata": {
        "id": "xJfq3ZnAFW1A"
      },
      "source": [
        "mul_op = a*b"
      ],
      "execution_count": 54,
      "outputs": []
    },
    {
      "cell_type": "code",
      "metadata": {
        "colab": {
          "base_uri": "https://localhost:8080/"
        },
        "id": "7TgZm6p_FYok",
        "outputId": "993b9e0f-a286-454b-fcb7-f98beb4a6cb5"
      },
      "source": [
        "with tf.Session() as sess:\r\n",
        "    add_result = sess.run(add_op, feed_dict = {a:rand_a,b:rand_b})\r\n",
        "    print(add_result)\r\n",
        "    mul_result = sess.run(mul_op, feed_dict = {a:rand_a,b:rand_b})\r\n",
        "    print(mul_result)"
      ],
      "execution_count": 58,
      "outputs": [
        {
          "output_type": "stream",
          "text": [
            "[[151.07166  156.49855  102.27921  116.58396  167.95949 ]\n",
            " [135.45622   82.76316  141.42784  124.22093   71.06043 ]\n",
            " [113.30171   93.09215   76.06819  136.43912  154.42728 ]\n",
            " [ 96.71727   81.83804  133.83675  146.38118  101.10579 ]\n",
            " [122.72681  105.982925  59.044632  67.9831    72.89292 ]]\n",
            "[[5134.644   5674.25     283.12433 1705.4707  6813.8315 ]\n",
            " [4341.8125  1598.267   4652.734   3756.8293   988.94635]\n",
            " [3207.8113  2038.1029  1052.7742  4546.9805  5588.1157 ]\n",
            " [1707.379    614.02527 4434.989   5356.7773  2029.8555 ]\n",
            " [3714.0984  2806.6438   262.76764  747.19855 1013.292  ]]\n"
          ],
          "name": "stdout"
        }
      ]
    },
    {
      "cell_type": "code",
      "metadata": {
        "id": "21HmrPcdF8dh"
      },
      "source": [
        ""
      ],
      "execution_count": null,
      "outputs": []
    },
    {
      "cell_type": "markdown",
      "metadata": {
        "id": "G7jBtAnrHcT-"
      },
      "source": [
        "Example Neural Network"
      ]
    },
    {
      "cell_type": "code",
      "metadata": {
        "id": "3dfxT7CdHgUp"
      },
      "source": [
        "n_features = 10\r\n",
        "n_dense_neurons = 3"
      ],
      "execution_count": 59,
      "outputs": []
    },
    {
      "cell_type": "code",
      "metadata": {
        "id": "stKYf1_oHzOv"
      },
      "source": [
        "x = tf.placeholder(tf.float32,(None,n_features))"
      ],
      "execution_count": 60,
      "outputs": []
    },
    {
      "cell_type": "code",
      "metadata": {
        "id": "9eTpqhaCIVew"
      },
      "source": [
        ""
      ],
      "execution_count": null,
      "outputs": []
    }
  ]
}